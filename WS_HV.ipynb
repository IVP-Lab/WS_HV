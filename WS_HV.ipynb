{
 "cells": [
  {
   "cell_type": "code",
   "execution_count": 6,
   "metadata": {},
   "outputs": [],
   "source": [
    "import cv2\n",
    "import pywt\n",
    "import numpy as np"
   ]
  },
  {
   "cell_type": "code",
   "execution_count": 7,
   "metadata": {},
   "outputs": [
    {
     "data": {
      "text/plain": [
       "'4.5.4'"
      ]
     },
     "execution_count": 7,
     "metadata": {},
     "output_type": "execute_result"
    }
   ],
   "source": [
    "cv2.__version__"
   ]
  },
  {
   "cell_type": "code",
   "execution_count": 8,
   "metadata": {
    "pycharm": {
     "name": "#%%\n"
    }
   },
   "outputs": [],
   "source": [
    "r_in = cv2.imread(\"org_1280_720.bmp\")\n",
    "d_in = cv2.imread(\"dst_1280_720.bmp\")"
   ]
  },
  {
   "cell_type": "code",
   "execution_count": 20,
   "metadata": {
    "pycharm": {
     "name": "#%%\n"
    }
   },
   "outputs": [],
   "source": [
    "def IQA_WS_HV(r_in, d_in):\n",
    "        M, N = r_in.shape[:2]\n",
    "\n",
    "        f = min(3, round((max(M, N) / 512) + 5e-16));  # this is added to\n",
    "        aa = 10 * 2 ** (\n",
    "            f);  # This is going to regulate the constant in the similarity relation. We see that the constant is determied based on the dimension of the images.\n",
    "\n",
    "        r = r_in;\n",
    "        d = d_in;\n",
    "        T4 = 2 * aa;\n",
    "        T9 = 2 * aa;\n",
    "        T8 = aa;\n",
    "        T5 = aa;\n",
    "        T6 = 3 * aa;\n",
    "        T7 = 3 * aa;\n",
    "\n",
    "        if len(r.shape) > 2 and r.shape[2] > 1:  # this check should be omitted for evaluating the time complexity.\n",
    "            r = cv2.cvtColor(r, cv2.COLOR_RGB2GRAY)\n",
    "            d = cv2.cvtColor(d, cv2.COLOR_RGB2GRAY)\n",
    "\n",
    "        rcA, (rcH, rcV, rcD) = pywt.dwt2(r, 'haar')\n",
    "        rcA2, (rcH2, rcV2, rcD2) = pywt.dwt2(rcA, 'haar')\n",
    "        _, (rcH3, rcV3, _) = pywt.dwt2(rcA2, 'haar')\n",
    "\n",
    "        dcA, (dcH, dcV, _) = pywt.dwt2(d, 'haar')\n",
    "        dcA2, (dcH2, dcV2, dcD2) = pywt.dwt2(dcA, 'haar')\n",
    "        _, (dcH3, dcV3, _) = pywt.dwt2(dcA2, 'haar')\n",
    "\n",
    "        rHH1 = rcD[:, :]\n",
    "        rh1 = rcH[:, :]\n",
    "        rv1 = rcV[:, :]\n",
    "        dh1 = dcH[:, :]\n",
    "        dv1 = dcV[:, :]\n",
    "\n",
    "        rHH2 = cv2.resize(rcD2, None, fx=2, fy=2, interpolation=cv2.INTER_CUBIC)\n",
    "        rh2 = cv2.resize(rcH2, None, fx=2, fy=2, interpolation=cv2.INTER_CUBIC)\n",
    "        rv2 = cv2.resize(rcV2, None, fx=2, fy=2, interpolation=cv2.INTER_CUBIC)\n",
    "        dHH2 = cv2.resize(dcD2, None, fx=2, fy=2, interpolation=cv2.INTER_CUBIC)\n",
    "        dh2 = cv2.resize(dcH2, None, fx=2, fy=2, interpolation=cv2.INTER_CUBIC)\n",
    "        dv2 = cv2.resize(dcV2, None, fx=2, fy=2, interpolation=cv2.INTER_CUBIC)\n",
    "\n",
    "        dh3 = cv2.resize(dcH3, None, fx=2, fy=2, interpolation=cv2.INTER_CUBIC)\n",
    "        dv3 = cv2.resize(dcV3, None, fx=2, fy=2, interpolation=cv2.INTER_CUBIC)\n",
    "\n",
    "        rh3 = cv2.resize(rcH3, None, fx=2, fy=2, interpolation=cv2.INTER_CUBIC)\n",
    "        rv3 = cv2.resize(rcV3, None, fx=2, fy=2, interpolation=cv2.INTER_CUBIC)\n",
    "        dh3 = cv2.resize(dh3, None, fx=2, fy=2, interpolation=cv2.INTER_CUBIC)\n",
    "        dv3 = cv2.resize(dv3, None, fx=2, fy=2, interpolation=cv2.INTER_CUBIC)\n",
    "        rh3 = cv2.resize(rh3, None, fx=2, fy=2, interpolation=cv2.INTER_CUBIC)\n",
    "        rv3 = cv2.resize(rv3, None, fx=2, fy=2, interpolation=cv2.INTER_CUBIC)\n",
    "\n",
    "        a, b = rHH1.shape\n",
    "        rh3 = cv2.resize(rh3, (b, a))\n",
    "        rv3 = cv2.resize(rv3, (b, a))\n",
    "        dh3 = cv2.resize(dh3, (b, a))\n",
    "        dv3 = cv2.resize(dv3, (b, a))\n",
    "        rh1 = abs(rh1);\n",
    "        rv1 = abs(rv1);\n",
    "        dh1 = abs(dh1);\n",
    "        dv1 = abs(dv1);\n",
    "        rHH2 = abs(rHH2);\n",
    "        rh2 = abs(rh2);\n",
    "        rv2 = abs(rv2);\n",
    "        dHH2 = abs(dHH2);\n",
    "        dh2 = abs(dh2);\n",
    "        dv2 = abs(dv2);\n",
    "        rh3 = abs(rh3);\n",
    "        rv3 = abs(rv3);\n",
    "        dh3 = abs(dh3);\n",
    "        dv3 = abs(dv3);\n",
    "\n",
    "        h_map3 = (2 * rh3 * dh3 + T4) / (rh3 * rh3 + dh3 * dh3 + T4);\n",
    "        h_map2 = (2 * rh2 * dh2 + T5) / (rh2 * rh2 + dh2 * dh2 + T5);\n",
    "        h_map1 = (2 * rh1 * dh1 + T6) / (rh1 * rh1 + dh1 * dh1 + T6);\n",
    "        v_map1 = (2 * rv1 * dv1 + T7) / (rv1 * rv1 + dv1 * dv1 + T7);\n",
    "        v_map2 = (2 * rv2 * dv2 + T8) / (rv2 * rv2 + dv2 * dv2 + T8);\n",
    "        v_map3 = (2 * rv3 * dv3 + T9) / (rv3 * rv3 + dv3 * dv3 + T9);\n",
    "\n",
    "        HH3m = np.maximum(rHH2, dHH2)\n",
    "\n",
    "        min_h = np.min([h_map2.shape[0], h_map3.shape[0], h_map1.shape[0], v_map1.shape[0], v_map2.shape[0], v_map3.shape[0], HH3m.shape[0]])\n",
    "        min_w = np.min([h_map2.shape[1], h_map3.shape[1], h_map1.shape[1], v_map1.shape[1], v_map2.shape[1], v_map3.shape[1], HH3m.shape[1]])\n",
    "        \n",
    "        h_map2= h_map2[:min_h,:min_w]\n",
    "        h_map3= h_map3[:min_h,:min_w]\n",
    "        h_map1= h_map1[:min_h,:min_w]\n",
    "        v_map1= v_map1[:min_h,:min_w]\n",
    "        v_map2= v_map2[:min_h,:min_w]\n",
    "        v_map3= v_map3[:min_h,:min_w]\n",
    "        HH3m= HH3m[:min_h,:min_w]\n",
    "\n",
    "        SimMatrix = h_map2 * h_map3 * h_map1 * v_map1 * v_map2 * v_map3 * HH3m\n",
    "        if sum(sum(SimMatrix)) == 0:\n",
    "            HHSIM = 0\n",
    "        else:\n",
    "            HHSIM = sum(sum(SimMatrix)) / sum(sum(HH3m))\n",
    "\n",
    "        return HHSIM\n"
   ]
  },
  {
   "cell_type": "code",
   "execution_count": 21,
   "metadata": {
    "collapsed": false,
    "pycharm": {
     "name": "#%%\n"
    }
   },
   "outputs": [
    {
     "data": {
      "text/plain": [
       "0.501453335859061"
      ]
     },
     "execution_count": 21,
     "metadata": {},
     "output_type": "execute_result"
    }
   ],
   "source": [
    "IQA_WS_HV(r_in, d_in)"
   ]
  }
 ],
 "metadata": {
  "kernelspec": {
   "display_name": "Python 3.10.6 64-bit",
   "language": "python",
   "name": "python3"
  },
  "language_info": {
   "codemirror_mode": {
    "name": "ipython",
    "version": 3
   },
   "file_extension": ".py",
   "mimetype": "text/x-python",
   "name": "python",
   "nbconvert_exporter": "python",
   "pygments_lexer": "ipython3",
   "version": "3.8.10"
  },
  "vscode": {
   "interpreter": {
    "hash": "31f2aee4e71d21fbe5cf8b01ff0e069b9275f58929596ceb00d14d90e3e16cd6"
   }
  }
 },
 "nbformat": 4,
 "nbformat_minor": 2
}
